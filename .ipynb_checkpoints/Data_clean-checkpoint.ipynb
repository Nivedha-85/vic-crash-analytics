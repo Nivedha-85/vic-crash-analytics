{
 "cells": [
  {
   "cell_type": "code",
   "execution_count": 17,
   "id": "e1e73cae-344d-4c31-a7e8-978318d431cc",
   "metadata": {},
   "outputs": [
    {
     "name": "stdout",
     "output_type": "stream",
     "text": [
      "Missing values in vic_road_crash_data.csv:\n",
      "ACCIDENT_NO           0\n",
      "ACCIDENT_DATE         0\n",
      "ACCIDENT_TIME         0\n",
      "ACCIDENT_TYPE         0\n",
      "DAY_OF_WEEK           0\n",
      "LIGHT_CONDITION       0\n",
      "POLICE_ATTEND         0\n",
      "ROAD_GEOMETRY         0\n",
      "SEVERITY              0\n",
      "SPEED_ZONE            0\n",
      "ROAD_NAME           248\n",
      "ROAD_TYPE          2469\n",
      "LGA_NAME             90\n",
      "DTP_REGION           85\n",
      "LATITUDE             85\n",
      "LONGITUDE            85\n",
      "DEG_URBAN_NAME      988\n",
      "STAT_DIV_NAME      1009\n",
      "dtype: int64\n"
     ]
    }
   ],
   "source": [
    "import pandas as pd\n",
    "\n",
    "# Load dataset\n",
    "df_vic = pd.read_csv(\"/Users/nivedha/Downloads/busa8090_assignment2/vic_road_crash_data.csv\", low_memory=False)\n",
    "\n",
    "# Required columns (only those that exist in the file)\n",
    "vic_cols = [\n",
    "    \"ACCIDENT_NO\", \"ACCIDENT_DATE\", \"ACCIDENT_TIME\", \"ACCIDENT_TYPE\",\n",
    "    \"DAY_OF_WEEK\", \"LIGHT_CONDITION\", \"POLICE_ATTEND\", \"ROAD_GEOMETRY\",\n",
    "    \"SEVERITY\", \"SPEED_ZONE\", \"ROAD_NAME\", \"ROAD_TYPE\",\n",
    "    \"LGA_NAME\", \"DTP_REGION\", \"LATITUDE\", \"LONGITUDE\",\n",
    "    \"DEG_URBAN_NAME\", \"STAT_DIV_NAME\"\n",
    "]\n",
    "\n",
    "# Check missing values for the above columns\n",
    "print(\"Missing values in vic_road_crash_data.csv:\")\n",
    "print(df_vic[vic_cols].isna().sum())"
   ]
  },
  {
   "cell_type": "code",
   "execution_count": 18,
   "id": "26698954-b689-4bd3-aaa8-1a88ab585d29",
   "metadata": {},
   "outputs": [],
   "source": [
    "# 1️⃣ Replace textual nulls with \"Unknown\"\n",
    "fill_text_cols = [\n",
    "    \"ROAD_NAME\", \"ROAD_TYPE\", \"LGA_NAME\", \"DTP_REGION\",\n",
    "    \"DEG_URBAN_NAME\", \"STAT_DIV_NAME\"\n",
    "]\n",
    "df_vic[fill_text_cols] = df_vic[fill_text_cols].fillna(\"Unknown\")\n",
    "\n",
    "# 2️⃣ Fix coordinate nulls (drop or impute)\n",
    "# Option A: drop those 85 rows only if necessary\n",
    "df_vic = df_vic.dropna(subset=[\"LATITUDE\", \"LONGITUDE\"])\n",
    "\n",
    "# Option B (alternative): impute using mean per LGA if mapping is important\n",
    "# df_vic[\"LATITUDE\"] = df_vic.groupby(\"LGA_NAME\")[\"LATITUDE\"].transform(lambda x: x.fillna(x.mean()))\n",
    "# df_vic[\"LONGITUDE\"] = df_vic.groupby(\"LGA_NAME\")[\"LONGITUDE\"].transform(lambda x: x.fillna(x.mean()))"
   ]
  },
  {
   "cell_type": "code",
   "execution_count": 19,
   "id": "603b25b1-97b8-424f-8ef9-3a0aac45c229",
   "metadata": {},
   "outputs": [
    {
     "name": "stdout",
     "output_type": "stream",
     "text": [
      "ACCIDENT_NO        0\n",
      "ACCIDENT_DATE      0\n",
      "ACCIDENT_TIME      0\n",
      "ACCIDENT_TYPE      0\n",
      "DAY_OF_WEEK        0\n",
      "LIGHT_CONDITION    0\n",
      "POLICE_ATTEND      0\n",
      "ROAD_GEOMETRY      0\n",
      "SEVERITY           0\n",
      "SPEED_ZONE         0\n",
      "ROAD_NAME          0\n",
      "ROAD_TYPE          0\n",
      "LGA_NAME           0\n",
      "DTP_REGION         0\n",
      "LATITUDE           0\n",
      "LONGITUDE          0\n",
      "DEG_URBAN_NAME     0\n",
      "STAT_DIV_NAME      0\n",
      "dtype: int64\n"
     ]
    }
   ],
   "source": [
    "print(df_vic[vic_cols].isna().sum())"
   ]
  },
  {
   "cell_type": "code",
   "execution_count": 23,
   "id": "6fa1af83-23d4-43a7-a546-016c2b85d2ad",
   "metadata": {},
   "outputs": [
    {
     "name": "stdout",
     "output_type": "stream",
     "text": [
      "Missing values in vehicle.csv:\n",
      "ACCIDENT_NO               0\n",
      "VEHICLE_ID                0\n",
      "VEHICLE_YEAR_MANUF     6938\n",
      "VEHICLE_MAKE          18924\n",
      "VEHICLE_MODEL         31914\n",
      "VEHICLE_BODY_STYLE    26288\n",
      "FUEL_TYPE             18932\n",
      "TOTAL_NO_OCCUPANTS       23\n",
      "LEVEL_OF_DAMAGE           0\n",
      "VEHICLE_TYPE_DESC         0\n",
      "dtype: int64\n"
     ]
    }
   ],
   "source": [
    "import pandas as pd\n",
    "\n",
    "# Load dataset\n",
    "df_vehicle = pd.read_csv(\"/Users/nivedha/Downloads/busa8090_assignment2/vehicle.csv\", low_memory=False)\n",
    "\n",
    "# Correct column names as per your dataset\n",
    "vehicle_cols = [\n",
    "    \"ACCIDENT_NO\", \"VEHICLE_ID\", \"VEHICLE_YEAR_MANUF\", \n",
    "    \"VEHICLE_MAKE\", \"VEHICLE_MODEL\", \"VEHICLE_BODY_STYLE\", \n",
    "    \"FUEL_TYPE\", \"TOTAL_NO_OCCUPANTS\", \n",
    "    \"LEVEL_OF_DAMAGE\", \"VEHICLE_TYPE_DESC\"\n",
    "]\n",
    "\n",
    "# Check for missing values in these columns\n",
    "print(\"Missing values in vehicle.csv:\")\n",
    "print(df_vehicle[vehicle_cols].isna().sum())"
   ]
  },
  {
   "cell_type": "code",
   "execution_count": 24,
   "id": "decf9cbd-e535-4e93-b128-756c23771542",
   "metadata": {},
   "outputs": [],
   "source": [
    "# Fill missing categorical values\n",
    "fill_text_cols = [\"VEHICLE_MAKE\", \"VEHICLE_MODEL\", \"VEHICLE_BODY_STYLE\", \"FUEL_TYPE\"]\n",
    "df_vehicle[fill_text_cols] = df_vehicle[fill_text_cols].fillna(\"Unknown\")\n",
    "\n",
    "# Fill numeric columns logically\n",
    "df_vehicle[\"VEHICLE_YEAR_MANUF\"] = df_vehicle[\"VEHICLE_YEAR_MANUF\"].fillna(df_vehicle[\"VEHICLE_YEAR_MANUF\"].median())\n",
    "df_vehicle[\"TOTAL_NO_OCCUPANTS\"] = df_vehicle[\"TOTAL_NO_OCCUPANTS\"].fillna(df_vehicle[\"TOTAL_NO_OCCUPANTS\"].median())"
   ]
  },
  {
   "cell_type": "code",
   "execution_count": 25,
   "id": "3540a0b3-55ba-4a08-a621-6ccc138e3861",
   "metadata": {},
   "outputs": [
    {
     "name": "stdout",
     "output_type": "stream",
     "text": [
      "ACCIDENT_NO           0\n",
      "VEHICLE_ID            0\n",
      "VEHICLE_YEAR_MANUF    0\n",
      "VEHICLE_MAKE          0\n",
      "VEHICLE_MODEL         0\n",
      "VEHICLE_BODY_STYLE    0\n",
      "FUEL_TYPE             0\n",
      "TOTAL_NO_OCCUPANTS    0\n",
      "LEVEL_OF_DAMAGE       0\n",
      "VEHICLE_TYPE_DESC     0\n",
      "dtype: int64\n"
     ]
    }
   ],
   "source": [
    "print(df_vehicle[vehicle_cols].isna().sum())"
   ]
  },
  {
   "cell_type": "code",
   "execution_count": 28,
   "id": "9b5b77dc-f3f8-41aa-909e-c1cec3fe0e3a",
   "metadata": {},
   "outputs": [
    {
     "name": "stdout",
     "output_type": "stream",
     "text": [
      "Missing values in person.csv (required columns):\n",
      "ACCIDENT_NO                 0\n",
      "PERSON_ID                   0\n",
      "VEHICLE_ID              17455\n",
      "SEX                        35\n",
      "AGE_GROUP                   0\n",
      "INJ_LEVEL                   0\n",
      "INJ_LEVEL_DESC              0\n",
      "SEATING_POSITION        17483\n",
      "HELMET_BELT_WORN            1\n",
      "ROAD_USER_TYPE              0\n",
      "ROAD_USER_TYPE_DESC         0\n",
      "LICENCE_STATE          109009\n",
      "TAKEN_HOSPITAL         281266\n",
      "EJECTED_CODE            26213\n",
      "dtype: int64\n"
     ]
    }
   ],
   "source": [
    "import pandas as pd\n",
    "\n",
    "# Load dataset\n",
    "df_person = pd.read_csv(\"/Users/nivedha/Downloads/busa8090_assignment2/person.csv\", low_memory=False)\n",
    "\n",
    "# Required columns\n",
    "person_cols = [\n",
    "    \"ACCIDENT_NO\", \"PERSON_ID\", \"VEHICLE_ID\",\n",
    "    \"SEX\", \"AGE_GROUP\",\n",
    "    \"INJ_LEVEL\", \"INJ_LEVEL_DESC\",\n",
    "    \"SEATING_POSITION\", \"HELMET_BELT_WORN\",\n",
    "    \"ROAD_USER_TYPE\", \"ROAD_USER_TYPE_DESC\",\n",
    "    \"LICENCE_STATE\", \"TAKEN_HOSPITAL\", \"EJECTED_CODE\"\n",
    "]\n",
    "\n",
    "print(\"Missing values in person.csv (required columns):\")\n",
    "print(df_person[person_cols].isna().sum())"
   ]
  },
  {
   "cell_type": "code",
   "execution_count": 27,
   "id": "c21588d4-4c55-4375-b7d9-04c926b644b5",
   "metadata": {},
   "outputs": [
    {
     "name": "stdout",
     "output_type": "stream",
     "text": [
      "<class 'pandas.core.frame.DataFrame'>\n",
      "RangeIndex: 436360 entries, 0 to 436359\n",
      "Data columns (total 14 columns):\n",
      " #   Column               Non-Null Count   Dtype  \n",
      "---  ------               --------------   -----  \n",
      " 0   ACCIDENT_NO          436360 non-null  object \n",
      " 1   PERSON_ID            436360 non-null  object \n",
      " 2   VEHICLE_ID           418905 non-null  object \n",
      " 3   SEX                  436325 non-null  object \n",
      " 4   AGE_GROUP            436360 non-null  object \n",
      " 5   INJ_LEVEL            436360 non-null  int64  \n",
      " 6   INJ_LEVEL_DESC       436360 non-null  object \n",
      " 7   SEATING_POSITION     418877 non-null  object \n",
      " 8   HELMET_BELT_WORN     436359 non-null  float64\n",
      " 9   ROAD_USER_TYPE       436360 non-null  int64  \n",
      " 10  ROAD_USER_TYPE_DESC  436360 non-null  object \n",
      " 11  LICENCE_STATE        327351 non-null  object \n",
      " 12  TAKEN_HOSPITAL       155094 non-null  object \n",
      " 13  EJECTED_CODE         410147 non-null  float64\n",
      "dtypes: float64(2), int64(2), object(10)\n",
      "memory usage: 46.6+ MB\n"
     ]
    }
   ],
   "source": [
    "df_person.info()"
   ]
  },
  {
   "cell_type": "code",
   "execution_count": 29,
   "id": "0626383b-0c57-45a0-91f2-01b0f2cd4372",
   "metadata": {},
   "outputs": [],
   "source": [
    "fill_text_cols = [\n",
    "    \"VEHICLE_ID\", \"SEX\", \"SEATING_POSITION\",\n",
    "    \"LICENCE_STATE\", \"TAKEN_HOSPITAL\"\n",
    "]\n",
    "df_person[fill_text_cols] = df_person[fill_text_cols].fillna(\"Unknown\")\n",
    "\n",
    "# Fill numeric columns logically\n",
    "df_person[\"HELMET_BELT_WORN\"] = df_person[\"HELMET_BELT_WORN\"].fillna(0)\n",
    "df_person[\"EJECTED_CODE\"] = df_person[\"EJECTED_CODE\"].fillna(0)"
   ]
  },
  {
   "cell_type": "code",
   "execution_count": 30,
   "id": "ee1f887a-e732-47cc-a698-906c3014c25d",
   "metadata": {},
   "outputs": [
    {
     "name": "stdout",
     "output_type": "stream",
     "text": [
      "ACCIDENT_NO            0\n",
      "PERSON_ID              0\n",
      "VEHICLE_ID             0\n",
      "SEX                    0\n",
      "AGE_GROUP              0\n",
      "INJ_LEVEL              0\n",
      "INJ_LEVEL_DESC         0\n",
      "SEATING_POSITION       0\n",
      "HELMET_BELT_WORN       0\n",
      "ROAD_USER_TYPE         0\n",
      "ROAD_USER_TYPE_DESC    0\n",
      "LICENCE_STATE          0\n",
      "TAKEN_HOSPITAL         0\n",
      "EJECTED_CODE           0\n",
      "dtype: int64\n"
     ]
    }
   ],
   "source": [
    "print(df_person[person_cols].isna().sum())"
   ]
  },
  {
   "cell_type": "code",
   "execution_count": null,
   "id": "4d51f1de-cee3-4ae6-a24e-f16307e93428",
   "metadata": {},
   "outputs": [],
   "source": [
    "# Save each cleaned dataset separately\n",
    "df_vic.to_excel(\"vic_road_crash_data_clean.xlsx\", index=False)\n",
    "df_vehicle.to_excel(\"vehicle_clean.xlsx\", index=False)\n",
    "df_person.to_excel(\"person_clean.xlsx\", index=False)\n",
    "\n",
    "print(\"✅ Cleaned Excel files saved successfully:\")\n",
    "print(\" - vic_road_crash_data_clean.xlsx\")\n",
    "print(\" - vehicle_clean.xlsx\")\n",
    "print(\" - person_clean.xlsx\")"
   ]
  },
  {
   "cell_type": "code",
   "execution_count": null,
   "id": "524f0360-1155-4c05-8b9a-6cc308811e30",
   "metadata": {},
   "outputs": [],
   "source": []
  }
 ],
 "metadata": {
  "kernelspec": {
   "display_name": "Python 3 (ipykernel)",
   "language": "python",
   "name": "python3"
  },
  "language_info": {
   "codemirror_mode": {
    "name": "ipython",
    "version": 3
   },
   "file_extension": ".py",
   "mimetype": "text/x-python",
   "name": "python",
   "nbconvert_exporter": "python",
   "pygments_lexer": "ipython3",
   "version": "3.13.5"
  }
 },
 "nbformat": 4,
 "nbformat_minor": 5
}
